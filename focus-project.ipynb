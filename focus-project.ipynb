{
 "cells": [
  {
   "cell_type": "code",
   "execution_count": 14,
   "metadata": {},
   "outputs": [],
   "source": [
    "import numpy as np\n",
    "\n",
    "# Simulation parameters\n",
    "box_size = 100.0  # Mpc/h\n",
    "n_particles = 256\n",
    "mass_dm = 1.0e10  # Solar masses\n",
    "mass_baryon = 1.0e10  # Solar masses\n",
    "softening_length = 0.1  # Mpc/h\n",
    "smoothing_length = 0.1  # Mpc/h\n",
    "\n",
    "# Create a uniform grid of particles\n",
    "def create_uniform_grid(n_particles, box_size):\n",
    "    n = int(n_particles**(1/3))\n",
    "    positions = np.linspace(0, box_size, n, endpoint=False)\n",
    "    positions = np.meshgrid(positions, positions, positions)\n",
    "    positions = np.vstack([positions[0].ravel(), positions[1].ravel(), positions[2].ravel()]).T\n",
    "    return positions\n",
    "\n",
    "# Initial positions and velocities\n",
    "dm_positions = create_uniform_grid(n_particles, box_size)\n",
    "baryon_positions = create_uniform_grid(n_particles, box_size)\n",
    "dm_velocities = np.zeros_like(dm_positions)\n",
    "baryon_velocities = np.zeros_like(baryon_positions)\n"
   ]
  },
  {
   "cell_type": "code",
   "execution_count": 15,
   "metadata": {},
   "outputs": [],
   "source": [
    "class NBodySolver:\n",
    "    def __init__(self, positions, velocities, mass, box_size, softening_length):\n",
    "        self.positions = positions\n",
    "        self.velocities = velocities\n",
    "        self.mass = mass\n",
    "        self.box_size = box_size\n",
    "        self.softening_length = softening_length\n",
    "\n",
    "    def compute_gravity(self):\n",
    "        # Compute gravitational forces using FFT for PM method\n",
    "        pass\n",
    "\n",
    "    def update_positions(self, dt):\n",
    "        self.positions += self.velocities * dt\n",
    "\n",
    "    def update_velocities(self, dt):\n",
    "        # Update velocities based on gravitational forces\n",
    "        pass\n",
    "\n",
    "    def step(self, dt):\n",
    "        self.update_positions(dt)\n",
    "        self.compute_gravity()\n",
    "        self.update_velocities(dt)\n",
    "\n",
    "# Initialize dark matter solver\n",
    "dm_solver = NBodySolver(dm_positions, dm_velocities, mass_dm, box_size, softening_length)\n"
   ]
  },
  {
   "cell_type": "code",
   "execution_count": 16,
   "metadata": {},
   "outputs": [],
   "source": [
    "class SPHSolver:\n",
    "    def __init__(self, positions, velocities, masses, smoothing_length):\n",
    "        self.positions = positions\n",
    "        self.velocities = velocities\n",
    "        self.masses = masses\n",
    "        self.smoothing_length = smoothing_length\n",
    "\n",
    "    def compute_density(self):\n",
    "        # Compute SPH density\n",
    "        pass\n",
    "\n",
    "    def compute_pressure(self):\n",
    "        # Compute pressure using an equation of state\n",
    "        pass\n",
    "\n",
    "    def compute_forces(self):\n",
    "        # Compute SPH forces (pressure gradients, viscosity, etc.)\n",
    "        pass\n",
    "\n",
    "    def update_positions(self, dt):\n",
    "        self.positions += self.velocities * dt\n",
    "\n",
    "    def update_velocities(self, dt):\n",
    "        # Update velocities based on SPH forces\n",
    "        pass\n",
    "\n",
    "    def step(self, dt):\n",
    "        self.compute_density()\n",
    "        self.compute_pressure()\n",
    "        self.compute_forces()\n",
    "        self.update_positions(dt)\n",
    "        self.update_velocities(dt)\n",
    "\n",
    "# Initialize baryon solver\n",
    "baryon_solver = SPHSolver(baryon_positions, baryon_velocities, mass_baryon, smoothing_length)\n"
   ]
  },
  {
   "cell_type": "code",
   "execution_count": 17,
   "metadata": {},
   "outputs": [],
   "source": [
    "def compute_gravitational_forces(dm_solver, baryon_solver):\n",
    "    # Compute gravitational forces for dark matter\n",
    "    dm_solver.compute_gravity()\n",
    "\n",
    "    # Compute gravitational forces for baryons considering dark matter contribution\n",
    "    baryon_solver.compute_gravity_from_dm(dm_solver.positions, dm_solver.masses)\n",
    "\n",
    "def supernova_feedback(baryon_solver, dm_solver):\n",
    "    # Implement simple supernova feedback\n",
    "    pass\n",
    "\n",
    "def agn_feedback(baryon_solver, dm_solver):\n",
    "    # Implement simple AGN feedback\n",
    "    pass\n"
   ]
  },
  {
   "cell_type": "code",
   "execution_count": 18,
   "metadata": {},
   "outputs": [
    {
     "ename": "ImportError",
     "evalue": "dlopen(/Users/michelleanderson/opt/anaconda3/envs/tf/lib/python3.11/site-packages/mpi4py/MPI.cpython-311-darwin.so, 0x0002): Library not loaded: @rpath/libmpi.12.dylib\n  Referenced from: <EBAE1CDF-F30F-3EF6-9395-E28788BCF772> /Users/michelleanderson/opt/anaconda3/envs/tf/lib/python3.11/site-packages/mpi4py/MPI.cpython-311-darwin.so\n  Reason: tried: '/Users/michelleanderson/opt/anaconda3/envs/tf/lib/python3.11/site-packages/mpi4py/../../../libmpi.12.dylib' (no such file), '/Users/michelleanderson/opt/anaconda3/envs/tf/lib/python3.11/site-packages/mpi4py/../../../libmpi.12.dylib' (no such file), '/Users/michelleanderson/opt/anaconda3/envs/tf/bin/../lib/libmpi.12.dylib' (no such file), '/Users/michelleanderson/opt/anaconda3/envs/tf/bin/../lib/libmpi.12.dylib' (no such file), '/usr/local/lib/libmpi.12.dylib' (no such file), '/usr/lib/libmpi.12.dylib' (no such file, not in dyld cache)",
     "output_type": "error",
     "traceback": [
      "\u001b[0;31m---------------------------------------------------------------------------\u001b[0m",
      "\u001b[0;31mImportError\u001b[0m                               Traceback (most recent call last)",
      "Cell \u001b[0;32mIn[18], line 1\u001b[0m\n\u001b[0;32m----> 1\u001b[0m \u001b[38;5;28;01mfrom\u001b[39;00m \u001b[38;5;21;01mmpi4py\u001b[39;00m \u001b[38;5;28;01mimport\u001b[39;00m MPI\n\u001b[1;32m      2\u001b[0m comm \u001b[38;5;241m=\u001b[39m MPI\u001b[38;5;241m.\u001b[39mCOMM_WORLD\n\u001b[1;32m      3\u001b[0m rank \u001b[38;5;241m=\u001b[39m comm\u001b[38;5;241m.\u001b[39mGet_rank()\n",
      "\u001b[0;31mImportError\u001b[0m: dlopen(/Users/michelleanderson/opt/anaconda3/envs/tf/lib/python3.11/site-packages/mpi4py/MPI.cpython-311-darwin.so, 0x0002): Library not loaded: @rpath/libmpi.12.dylib\n  Referenced from: <EBAE1CDF-F30F-3EF6-9395-E28788BCF772> /Users/michelleanderson/opt/anaconda3/envs/tf/lib/python3.11/site-packages/mpi4py/MPI.cpython-311-darwin.so\n  Reason: tried: '/Users/michelleanderson/opt/anaconda3/envs/tf/lib/python3.11/site-packages/mpi4py/../../../libmpi.12.dylib' (no such file), '/Users/michelleanderson/opt/anaconda3/envs/tf/lib/python3.11/site-packages/mpi4py/../../../libmpi.12.dylib' (no such file), '/Users/michelleanderson/opt/anaconda3/envs/tf/bin/../lib/libmpi.12.dylib' (no such file), '/Users/michelleanderson/opt/anaconda3/envs/tf/bin/../lib/libmpi.12.dylib' (no such file), '/usr/local/lib/libmpi.12.dylib' (no such file), '/usr/lib/libmpi.12.dylib' (no such file, not in dyld cache)"
     ]
    }
   ],
   "source": [
    "from mpi4py import MPI\n",
    "comm = MPI.COMM_WORLD\n",
    "rank = comm.Get_rank()\n",
    "size = comm.Get_size()\n",
    "\n",
    "# Distribute particles among MPI processes\n",
    "dm_positions_local = np.array_split(dm_positions, size)[rank]\n",
    "baryon_positions_local = np.array_split(baryon_positions, size)[rank]\n",
    "\n",
    "dm_velocities_local = np.array_split(dm_velocities, size)[rank]\n",
    "baryon_velocities_local = np.array_split(baryon_velocities, size)[rank]\n",
    "\n",
    "# Initialize local solvers\n",
    "dm_solver_local = NBodySolver(dm_positions_local, dm_velocities_local, mass_dm, box_size, softening_length)\n",
    "baryon_solver_local = SPHSolver(baryon_positions_local, baryon_velocities_local, mass_baryon, smoothing_length)\n"
   ]
  }
 ],
 "metadata": {
  "kernelspec": {
   "display_name": "tf",
   "language": "python",
   "name": "python3"
  },
  "language_info": {
   "codemirror_mode": {
    "name": "ipython",
    "version": 3
   },
   "file_extension": ".py",
   "mimetype": "text/x-python",
   "name": "python",
   "nbconvert_exporter": "python",
   "pygments_lexer": "ipython3",
   "version": "3.11.5"
  }
 },
 "nbformat": 4,
 "nbformat_minor": 2
}
